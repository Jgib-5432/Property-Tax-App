{
 "cells": [
  {
   "cell_type": "code",
   "execution_count": 4,
   "id": "9f064de9",
   "metadata": {},
   "outputs": [],
   "source": [
    "# Jared Gibbs\n",
    "# Truth in Taxation Inflation Rate Adjustment Modeling\n",
    "# 8/1/2025"
   ]
  },
  {
   "cell_type": "code",
   "execution_count": 5,
   "id": "2ed5e37c",
   "metadata": {},
   "outputs": [],
   "source": [
    "# Questions\n",
    "\n",
    "# How do we deal with personal property rates since they are a 1-year lag of real property rates?\n",
    "# How do we deal with new entities/ rates being created?\n",
    "\n",
    "# inflate rate vs inflate revenue? \n",
    "\n",
    "# how to model the 10% growth cap? "
   ]
  },
  {
   "cell_type": "code",
   "execution_count": 6,
   "id": "820e57d2",
   "metadata": {},
   "outputs": [],
   "source": [
    "import pandas as pd\n",
    "\n",
    "df_raw_inflation = pd.read_excel('Trimmed Mean PCE Inflation.xlsx')\n",
    "df_raw_property = pd.read_excel('document (79).xls')"
   ]
  },
  {
   "cell_type": "code",
   "execution_count": 7,
   "id": "9c42e82a",
   "metadata": {},
   "outputs": [],
   "source": [
    "df_cleandata = df_raw_property[[\"Tax Year\", \"County Name\", \"Entity Name\", \"750 Tax_Rate_Real\", \"750 Tax_Rate_PP\", \"233b Total_Real\", \"233b Total_PP\", \"233b Total_CA\"]]\n",
    "\n",
    "df_cleandata = df_cleandata.merge(df_raw_inflation, how='left', on=\"Tax Year\")\n",
    "\n",
    "df_cleandata['inflation_rate_forwardlag'] = (df_cleandata['inflation_rate_forwardlag']/100) + 1"
   ]
  },
  {
   "cell_type": "code",
   "execution_count": 8,
   "id": "00be8c77",
   "metadata": {},
   "outputs": [],
   "source": [
    "years = df_cleandata[\"Tax Year\"].unique().tolist()\n",
    "\n",
    "tax_base_types = [\"233b Total_Real\", \"233b Total_PP\", \"233b Total_CA\"]\n",
    "\n",
    "entities = df_cleandata[\"Entity Name\"].unique().tolist()\n"
   ]
  },
  {
   "cell_type": "code",
   "execution_count": 9,
   "id": "648d8850",
   "metadata": {},
   "outputs": [],
   "source": [
    "# Inflate tax rates\n",
    "for year in years:\n",
    "    for entity in entities:\n",
    "        if year == 2015:\n",
    "            alpha = df_cleandata.loc[(df_cleandata[\"Tax Year\"] == year) & (df_cleandata['Entity Name']== entity)][\"750 Tax_Rate_Real\"].sum() * df_cleandata.loc[(df_cleandata[\"Tax Year\"] == year) & (df_cleandata['Entity Name']== entity)][\"inflation_rate_forwardlag\"].sum()\n",
    "            df_cleandata.loc[(df_cleandata[\"Tax Year\"] == year) & (df_cleandata['Entity Name']== entity),\"inflated_real_rate\"] = alpha\n",
    "        \n",
    "        if year >= 2016:\n",
    "            alpha = df_cleandata.loc[(df_cleandata[\"Tax Year\"] == year - 1) & (df_cleandata['Entity Name']== entity)][\"inflated_real_rate\"].sum() * df_cleandata.loc[(df_cleandata[\"Tax Year\"] == year) & (df_cleandata['Entity Name']== entity)][\"inflation_rate_forwardlag\"].sum()\n",
    "            df_cleandata.loc[(df_cleandata[\"Tax Year\"] == year) & (df_cleandata['Entity Name']== entity),\"inflated_real_rate\"] = alpha\n"
   ]
  },
  {
   "cell_type": "code",
   "execution_count": 10,
   "id": "0af81a84",
   "metadata": {},
   "outputs": [],
   "source": [
    "# Lag for Personal Property Rates\n",
    "for year in years:\n",
    "    for entity in entities:\n",
    "        beta = df_cleandata.loc[(df_cleandata[\"Tax Year\"] == year) & (df_cleandata['Entity Name']== entity)][\"inflated_real_rate\"].sum()\n",
    "        df_cleandata.loc[(df_cleandata[\"Tax Year\"] == year - 1) & (df_cleandata['Entity Name']== entity),\"inflated_pp_rate\"] = beta\n",
    "\n"
   ]
  },
  {
   "cell_type": "code",
   "execution_count": 11,
   "id": "afac55b0",
   "metadata": {},
   "outputs": [],
   "source": [
    "# Calculate Base Revenue\n",
    "df_cleandata['base_real_revenue'] = df_cleandata['750 Tax_Rate_Real']* df_cleandata['233b Total_Real']\n",
    "df_cleandata['base_pp_revenue'] = df_cleandata['750 Tax_Rate_PP']* df_cleandata['233b Total_PP']\n",
    "df_cleandata['base_ca_revenue'] = df_cleandata['750 Tax_Rate_Real']* df_cleandata['233b Total_CA']\n",
    "df_cleandata['base_total_revenue'] = df_cleandata['base_real_revenue'] + df_cleandata['base_pp_revenue'] + df_cleandata['base_ca_revenue'] \n"
   ]
  },
  {
   "cell_type": "code",
   "execution_count": null,
   "id": "e31bbb19",
   "metadata": {},
   "outputs": [],
   "source": [
    "# Inflate Revenue \n",
    "# real property \n",
    "for year in years:\n",
    "    for entity in entities:\n",
    "        if year == 2015:\n",
    "            gamma = df_cleandata.loc[(df_cleandata[\"Tax Year\"] == year) & (df_cleandata['Entity Name']== entity)][\"base_real_revenue\"].sum() * df_cleandata.loc[(df_cleandata[\"Tax Year\"] == year) & (df_cleandata['Entity Name']== entity)][\"inflation_rate_forwardlag\"].sum()\n",
    "            df_cleandata.loc[(df_cleandata[\"Tax Year\"] == year) & (df_cleandata['Entity Name']== entity),\"direct-inflated_real_revenue\"] = gamma\n",
    "        \n",
    "        if year >= 2016:\n",
    "            gamma = df_cleandata.loc[(df_cleandata[\"Tax Year\"] == year - 1) & (df_cleandata['Entity Name']== entity)][\"direct-inflated_real_revenue\"].sum() * df_cleandata.loc[(df_cleandata[\"Tax Year\"] == year) & (df_cleandata['Entity Name']== entity)][\"inflation_rate_forwardlag\"].sum()\n",
    "            df_cleandata.loc[(df_cleandata[\"Tax Year\"] == year) & (df_cleandata['Entity Name']== entity),\"direct-inflated_real_revenue\"] = gamma\n",
    "\n",
    "# personal property \n",
    "for year in years:\n",
    "    for entity in entities:\n",
    "        if year == 2015:\n",
    "            gamma = df_cleandata.loc[(df_cleandata[\"Tax Year\"] == year) & (df_cleandata['Entity Name']== entity)][\"base_pp_revenue\"].sum() * df_cleandata.loc[(df_cleandata[\"Tax Year\"] == year) & (df_cleandata['Entity Name']== entity)][\"inflation_rate_forwardlag\"].sum()\n",
    "            df_cleandata.loc[(df_cleandata[\"Tax Year\"] == year) & (df_cleandata['Entity Name']== entity),\"direct-inflated_pp_revenue\"] = gamma\n",
    "        \n",
    "        if year >= 2016:\n",
    "            gamma = df_cleandata.loc[(df_cleandata[\"Tax Year\"] == year - 1) & (df_cleandata['Entity Name']== entity)][\"direct-inflated_pp_revenue\"].sum() * df_cleandata.loc[(df_cleandata[\"Tax Year\"] == year) & (df_cleandata['Entity Name']== entity)][\"inflation_rate_forwardlag\"].sum()\n",
    "            df_cleandata.loc[(df_cleandata[\"Tax Year\"] == year) & (df_cleandata['Entity Name']== entity),\"direct-inflated_pp_revenue\"] = gamma\n",
    "\n",
    "\n",
    "# Cenrally Assesed property \n",
    "for year in years:\n",
    "    for entity in entities:\n",
    "        if year == 2015:\n",
    "            gamma = df_cleandata.loc[(df_cleandata[\"Tax Year\"] == year) & (df_cleandata['Entity Name']== entity)][\"base_ca_revenue\"].sum() * df_cleandata.loc[(df_cleandata[\"Tax Year\"] == year) & (df_cleandata['Entity Name']== entity)][\"inflation_rate_forwardlag\"].sum()\n",
    "            df_cleandata.loc[(df_cleandata[\"Tax Year\"] == year) & (df_cleandata['Entity Name']== entity),\"direct-inflated_ca_revenue\"] = gamma\n",
    "        \n",
    "        if year >= 2016:\n",
    "            gamma = df_cleandata.loc[(df_cleandata[\"Tax Year\"] == year - 1) & (df_cleandata['Entity Name']== entity)][\"direct-inflated_ca_revenue\"].sum() * df_cleandata.loc[(df_cleandata[\"Tax Year\"] == year) & (df_cleandata['Entity Name']== entity)][\"inflation_rate_forwardlag\"].sum()\n",
    "            df_cleandata.loc[(df_cleandata[\"Tax Year\"] == year) & (df_cleandata['Entity Name']== entity),\"direct-inflated_ca_revenue\"] = gamma"
   ]
  },
  {
   "cell_type": "code",
   "execution_count": 13,
   "id": "6dc003b6",
   "metadata": {},
   "outputs": [],
   "source": [
    "# Calculate Rate-Inflated Revenue\n",
    "df_cleandata['rate-inflated_real_revenue'] = df_cleandata['inflated_real_rate']* df_cleandata['233b Total_Real']\n",
    "df_cleandata['rate-inflated_pp_revenue'] = df_cleandata['inflated_pp_rate']* df_cleandata['233b Total_PP']\n",
    "df_cleandata['rate-inflated_ca_revenue'] = df_cleandata['inflated_real_rate']* df_cleandata['233b Total_CA']\n",
    "df_cleandata['rate-inflated_total_revenue'] = df_cleandata['rate-inflated_real_revenue'] + df_cleandata['rate-inflated_pp_revenue'] + df_cleandata['rate-inflated_ca_revenue']\n",
    "\n",
    "# Compute rate-inflated differential\n",
    "df_cleandata['rate-inflated_diff_real'] = df_cleandata['rate-inflated_real_revenue']- df_cleandata['base_real_revenue']\n",
    "df_cleandata['rate-inflated_diff_pp'] = df_cleandata['rate-inflated_pp_revenue']- df_cleandata['base_pp_revenue']\n",
    "df_cleandata['rate-inflated_diff_ca'] = df_cleandata['rate-inflated_ca_revenue']- df_cleandata['base_ca_revenue']\n",
    "df_cleandata['rate-inflated_diff_total'] = df_cleandata['rate-inflated_total_revenue']- df_cleandata['base_total_revenue']\n",
    "\n",
    "\n",
    "\n",
    "\n",
    "# Compute direct-inflated differential\n",
    "df_cleandata['direct-inflated_diff_real'] = df_cleandata['direct-inflated_real_revenue']- df_cleandata['base_real_revenue']\n",
    "df_cleandata['direct-inflated_diff_pp'] = df_cleandata['direct-inflated_pp_revenue']- df_cleandata['base_pp_revenue']\n",
    "df_cleandata['direct-inflated_diff_ca'] = df_cleandata['direct-inflated_ca_revenue']- df_cleandata['base_ca_revenue']\n",
    "\n",
    "df_cleandata['direct-inflated_total_revenue'] = df_cleandata['direct-inflated_diff_real'] + df_cleandata['direct-inflated_diff_pp'] + df_cleandata['direct-inflated_diff_ca']\n",
    "df_cleandata['direct-inflated_diff_total'] = df_cleandata['direct-inflated_total_revenue']- df_cleandata['base_total_revenue']\n"
   ]
  },
  {
   "cell_type": "code",
   "execution_count": 14,
   "id": "e32431d8",
   "metadata": {},
   "outputs": [],
   "source": [
    "# Graphing\n"
   ]
  }
 ],
 "metadata": {
  "kernelspec": {
   "display_name": "Python 3",
   "language": "python",
   "name": "python3"
  },
  "language_info": {
   "codemirror_mode": {
    "name": "ipython",
    "version": 3
   },
   "file_extension": ".py",
   "mimetype": "text/x-python",
   "name": "python",
   "nbconvert_exporter": "python",
   "pygments_lexer": "ipython3",
   "version": "3.12.1"
  }
 },
 "nbformat": 4,
 "nbformat_minor": 5
}
