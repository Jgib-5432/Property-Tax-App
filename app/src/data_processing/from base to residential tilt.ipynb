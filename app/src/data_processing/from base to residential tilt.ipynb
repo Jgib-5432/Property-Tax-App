{
 "cells": [
  {
   "cell_type": "code",
   "execution_count": 1,
   "id": "f9a10330",
   "metadata": {},
   "outputs": [],
   "source": [
    "# Data Processing from base data to dataset for residential tilt analysis"
   ]
  },
  {
   "cell_type": "code",
   "execution_count": 2,
   "id": "b73a66c1",
   "metadata": {},
   "outputs": [],
   "source": [
    "import pandas as pd\n",
    "\n",
    "df_clean = pd.read_json(\"../../public/data/base_data.json\")\n",
    "\n",
    "years = df_clean['Tax Year'].unique().tolist()\n",
    "entities = df_clean['Entity Name'].unique().tolist()\n"
   ]
  },
  {
   "cell_type": "code",
   "execution_count": 3,
   "id": "629cfe20",
   "metadata": {},
   "outputs": [],
   "source": [
    "\n",
    "# exclude personal property\n",
    "df_clean['Total Taxable Property'] -= df_clean['Personal Property']\n",
    "\n",
    "# drop needless columns\n",
    "df_clean = df_clean[['Tax Year', 'County Name', 'Entity Name', 'Entity Code', 'County Code', 'Entity Type', 'Tax Rate' , 'Primary Residential', \n",
    "                 'Total Taxable Property', 'Primary Residential, Share', 'Revenue, Primary Residential', 'Revenue, Total']]\n",
    "\n",
    "df_clean['Primary Residential, Share'] = df_clean['Revenue, Primary Residential']/ df_clean['Revenue, Total']\n"
   ]
  },
  {
   "cell_type": "code",
   "execution_count": 4,
   "id": "e156c852",
   "metadata": {},
   "outputs": [],
   "source": [
    "# Hold tax base shares constant over time\n",
    "\n",
    "for entity in entities:\n",
    "    df_clean.loc[(df_clean['Entity Name']== entity), 'Countertilt Share, Primary Residential'] = df_clean.loc[(df_clean['Entity Name']== entity) & (df_clean['Tax Year']== 2014), 'Primary Residential, Share'].sum()\n",
    "\n",
    "\n",
    "# Compute Counterfactual revenue shares\n",
    "df_clean['Countertilt Revenue, Primary Residential'] = df_clean['Revenue, Total'] * df_clean['Countertilt Share, Primary Residential']\n",
    "\n",
    "# Compute Tilt Premium for Primary Residential Property\n",
    "df_clean['Tilt Premium, Primary Residential']= df_clean['Revenue, Primary Residential'] - df_clean['Countertilt Revenue, Primary Residential']"
   ]
  },
  {
   "cell_type": "code",
   "execution_count": 5,
   "id": "831eca11",
   "metadata": {},
   "outputs": [],
   "source": [
    "# Export to JSON\n",
    "df_clean.to_json('../../public/data/tilt_data.json', orient = 'records')\n"
   ]
  }
 ],
 "metadata": {
  "kernelspec": {
   "display_name": "Python 3",
   "language": "python",
   "name": "python3"
  },
  "language_info": {
   "codemirror_mode": {
    "name": "ipython",
    "version": 3
   },
   "file_extension": ".py",
   "mimetype": "text/x-python",
   "name": "python",
   "nbconvert_exporter": "python",
   "pygments_lexer": "ipython3",
   "version": "3.13.4"
  }
 },
 "nbformat": 4,
 "nbformat_minor": 5
}
