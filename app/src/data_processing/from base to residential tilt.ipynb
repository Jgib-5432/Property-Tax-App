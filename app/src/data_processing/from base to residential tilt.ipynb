{
 "cells": [
  {
   "cell_type": "code",
   "execution_count": null,
   "id": "f9a10330",
   "metadata": {},
   "outputs": [],
   "source": [
    "# Data Processing from base data to dataset for residential tilt analysis"
   ]
  },
  {
   "cell_type": "code",
   "execution_count": 4,
   "id": "b73a66c1",
   "metadata": {},
   "outputs": [],
   "source": [
    "import pandas as pd\n",
    "\n",
    "df_clean = pd.read_json(\"../../public/data/base_data.json\")\n"
   ]
  },
  {
   "cell_type": "code",
   "execution_count": 6,
   "id": "629cfe20",
   "metadata": {},
   "outputs": [],
   "source": [
    "\n",
    "# drop needless columns\n",
    "df_clean = df_clean[['Tax Year', 'County Name', 'Entity Name', 'Entity Code', 'County Code', 'Entity Type', 'Tax Rate' ,'Tax Rate PP', 'Primary Residential', \n",
    "                 'Total Taxable Property', 'Primary Residential, Share', 'Revenue, Primary Residential', 'Revenue, Total']]"
   ]
  },
  {
   "cell_type": "code",
   "execution_count": null,
   "id": "e156c852",
   "metadata": {},
   "outputs": [],
   "source": [
    "# Compute annual percent change in share of total property attributable to primary (secondary?) residential property\n",
    "\n",
    "# Consider how the statewide assessment of tilt should function (use implicit tax rates)"
   ]
  },
  {
   "cell_type": "code",
   "execution_count": null,
   "id": "831eca11",
   "metadata": {},
   "outputs": [],
   "source": [
    "# Export to JSON\n",
    "# df_clean.to_json('../../public/data/tilt_data.json')\n"
   ]
  }
 ],
 "metadata": {
  "kernelspec": {
   "display_name": "Python 3",
   "language": "python",
   "name": "python3"
  },
  "language_info": {
   "codemirror_mode": {
    "name": "ipython",
    "version": 3
   },
   "file_extension": ".py",
   "mimetype": "text/x-python",
   "name": "python",
   "nbconvert_exporter": "python",
   "pygments_lexer": "ipython3",
   "version": "3.12.1"
  }
 },
 "nbformat": 4,
 "nbformat_minor": 5
}
