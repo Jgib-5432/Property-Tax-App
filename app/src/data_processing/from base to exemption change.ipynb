{
 "cells": [
  {
   "cell_type": "code",
   "execution_count": 7,
   "id": "f9a10330",
   "metadata": {},
   "outputs": [],
   "source": [
    "# Data Processing from base data to dataset for residential exemption analysis"
   ]
  },
  {
   "cell_type": "code",
   "execution_count": 1,
   "id": "b73a66c1",
   "metadata": {},
   "outputs": [],
   "source": [
    "import pandas as pd\n",
    "\n",
    "df_clean = pd.read_json(\"../../public/data/base_data.json\")\n",
    "\n",
    "years = df_clean['Tax Year'].unique().tolist()\n",
    "entities = df_clean['Entity Name'].unique().tolist()\n"
   ]
  },
  {
   "cell_type": "code",
   "execution_count": null,
   "id": "c0b5a618",
   "metadata": {},
   "outputs": [],
   "source": [
    "property_types = ['Primary Residential', 'Non-primary Residential', 'Commercial', 'Agricultural', 'Unimproved', 'Total Real Property', \n",
    "                  'Personal Property', \n",
    "                  'Centrally Assessed']\n",
    "\n",
    "entities = entities = df_clean[\"Entity Name\"].unique().tolist()\n",
    "years = df_clean[\"Tax Year\"].unique().tolist()\n",
    "\n",
    "\n",
    "# Compute primary residential market value\n",
    "df_clean['Market Value'] = df_clean[\"Primary Residential\"]/.55\n",
    "\n",
    "\n",
    "# Compute new primary residential exemption (55%)\n",
    "df_clean['Counterfactual Primary Residential'] = df_clean[\"Market Value\"] * .45\n",
    "\n",
    "\n",
    "# Compute counterfactual total taxable property using counterfactual primary residential taxable property\n",
    "df_clean['Counterfactual Total Taxable Property'] = df_clean[\"Counterfactual Primary Residential\"] + df_clean[\"Non-primary Residential\"] + df_clean[\"Commercial\"] + df_clean[\"Agricultural\"] + df_clean[\"Unimproved\"] + df_clean[\"Personal Property\"] + df_clean[\"Centrally Assessed\"]\n",
    "\n",
    "\n",
    "# Compute counterfactual tax rate using counterfactural total taxable property & existing total tax revenue\n",
    "df_clean['Counterfactual Tax Rate'] = (df_clean[\"Revenue, Total\"]/ df_clean['Counterfactual Total Taxable Property'])/10\n",
    "\n",
    "\n",
    "# Compute counterfactual tax revenue by property type using counterfactual tax rate\n",
    "for type in property_types:\n",
    "    if type == 'Primary Residential':   \n",
    "        df_clean['Counterfactual Revenue, ' + type] = df_clean['Counterfactual Tax Rate'] * df_clean['Counterfactual '+ type] * 10\n",
    "\n",
    "    elif type == \"Personal Property\":\n",
    "        for entity in entities:\n",
    "            for year in years:\n",
    "                df_clean.loc[(df_clean[\"Tax Year\"]==year) & (df_clean[\"Entity Name\"]==entity), 'Counterfactual Revenue, Personal Property'] = df_clean.loc[(df_clean[\"Tax Year\"]==year-1) & (df_clean[\"Entity Name\"]==entity)][\"Counterfactual Tax Rate\"].sum() * df_clean.loc[(df_clean[\"Tax Year\"]==year) & (df_clean[\"Entity Name\"]==entity)][\"Personal Property\"].sum() * 10\n",
    "    \n",
    "    else:\n",
    "        df_clean['Counterfactual Revenue, ' + type] = df_clean['Counterfactual Tax Rate'] * df_clean[type] * 10 \n",
    "\n",
    "\n",
    "# Compute counterfactual property type shares using counterfactual (primary residential property, taxable value) & existing (non-primary taxable property values) variables\n",
    "for type in property_types:\n",
    "        if type == 'Primary Residential':   \n",
    "            df_clean['Counterfactual ' + type + ', Share'] = df_clean['Counterfactual Primary Residential']/ df_clean['Counterfactual Total Taxable Property']\n",
    "        else:\n",
    "            df_clean['Counterfactual ' + type + ', Share'] = df_clean[type]/ df_clean['Counterfactual Total Taxable Property']\n",
    "\n",
    "\n",
    "# Compute hypothetical liability\n",
    "df_clean[\"Primary Residenital Tax Liability\"] = 500000 * .55 * df_clean['Tax Rate'] / 100\n",
    "df_clean[\"Other Tax Liability\"] = 500000 * df_clean['Tax Rate'] / 100\n",
    "    \n",
    "df_clean[\"Counterfactual Primary Residenital Tax Liability\"] = 500000 * .45 * df_clean['Counterfactual Tax Rate'] / 100\n",
    "df_clean[\"Counterfactual Other Tax Liability\"] = 500000 * df_clean['Counterfactual Tax Rate'] / 100\n"
   ]
  },
  {
   "cell_type": "code",
   "execution_count": 11,
   "id": "831eca11",
   "metadata": {},
   "outputs": [],
   "source": [
    "# Export to JSON\n",
    "df_clean.to_json('../../public/data/exemption_data.json', orient = 'records')\n"
   ]
  }
 ],
 "metadata": {
  "kernelspec": {
   "display_name": "Python 3",
   "language": "python",
   "name": "python3"
  },
  "language_info": {
   "codemirror_mode": {
    "name": "ipython",
    "version": 3
   },
   "file_extension": ".py",
   "mimetype": "text/x-python",
   "name": "python",
   "nbconvert_exporter": "python",
   "pygments_lexer": "ipython3",
   "version": "3.13.4"
  }
 },
 "nbformat": 4,
 "nbformat_minor": 5
}
