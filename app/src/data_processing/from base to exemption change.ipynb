{
 "cells": [
  {
   "cell_type": "code",
   "execution_count": null,
   "id": "f9a10330",
   "metadata": {},
   "outputs": [],
   "source": [
    "# Data Processing from base data to dataset for residential exemption analysis"
   ]
  },
  {
   "cell_type": "code",
   "execution_count": 2,
   "id": "b73a66c1",
   "metadata": {},
   "outputs": [],
   "source": [
    "import pandas as pd\n",
    "\n",
    "df_clean = pd.read_json(\"../../public/data/base_data.json\")\n",
    "\n",
    "years = df_clean['Tax Year'].unique().tolist()\n",
    "entities = df_clean['Entity Name'].unique().tolist()\n"
   ]
  },
  {
   "cell_type": "code",
   "execution_count": null,
   "id": "6dba0faf",
   "metadata": {},
   "outputs": [],
   "source": [
    "# restrict to certain years and entity types?"
   ]
  },
  {
   "cell_type": "code",
   "execution_count": null,
   "id": "c0b5a618",
   "metadata": {},
   "outputs": [],
   "source": [
    "# Compute primary residential market value\n",
    "\n",
    "# Compute new primary residential exemption (55%)\n",
    "\n",
    "# Compute counterfactual total taxable property using counterfactual primary residential taxable property\n",
    "\n",
    "# Compute counterfactual tax rate using counterfactural total taxable property & existing total tax revenue\n",
    "\n",
    "# Compute counterfactual tax revenue by property type using counterfactual tax rate\n",
    "\n",
    "# Compute counterfactual property type shares using counterfactual (primary residential property, taxable value) & existing (non-primary taxable property values) variables\n"
   ]
  },
  {
   "cell_type": "code",
   "execution_count": null,
   "id": "831eca11",
   "metadata": {},
   "outputs": [],
   "source": [
    "# Export to JSON\n",
    "df_clean.to_json('../../public/data/exemption_data.json', orient = 'records')\n"
   ]
  }
 ],
 "metadata": {
  "kernelspec": {
   "display_name": "Python 3",
   "language": "python",
   "name": "python3"
  },
  "language_info": {
   "codemirror_mode": {
    "name": "ipython",
    "version": 3
   },
   "file_extension": ".py",
   "mimetype": "text/x-python",
   "name": "python",
   "nbconvert_exporter": "python",
   "pygments_lexer": "ipython3",
   "version": "3.13.4"
  }
 },
 "nbformat": 4,
 "nbformat_minor": 5
}
