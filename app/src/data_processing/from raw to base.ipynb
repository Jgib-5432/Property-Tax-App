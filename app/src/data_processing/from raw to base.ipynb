{
 "cells": [
  {
   "cell_type": "code",
   "execution_count": null,
   "id": "47ab0dea",
   "metadata": {},
   "outputs": [],
   "source": [
    "# Data processing from raw tax commission files to baseline clean data\n",
    "# Notes: \n",
    "\n"
   ]
  },
  {
   "cell_type": "code",
   "execution_count": 39,
   "id": "de1f48af",
   "metadata": {},
   "outputs": [],
   "source": [
    "# Imports\n",
    "\n",
    "import pandas as pd\n",
    "\n",
    "df_raw = pd.read_excel(\"../../../Data/document (79).xls\")\n"
   ]
  },
  {
   "cell_type": "code",
   "execution_count": null,
   "id": "60bcf474",
   "metadata": {},
   "outputs": [],
   "source": [
    "# Aggregate into usable catagories\n",
    "df_raw['Primary Residential'] = df_raw['233b Res_Primary_Land'] + df_raw['233b Res_Primary_Building']\n",
    "df_raw['Non-primary Residential'] = df_raw['233b Res_Non_Primary_Land'] + df_raw['233b Res_Non_Primary_Building']\n",
    "df_raw['Commercial'] = df_raw['233b Comm_Improv_Land'] + df_raw['233b Commercial_Building']\n",
    "df_raw['Agricultural'] = df_raw['233b FAA_Land'] + df_raw['233b Agriculture_Building']\n",
    "df_raw['Unimproved'] = df_raw['233b Unimproved_Non_FAA']\n",
    "\n",
    "df_raw['Total Real Property'] = df_raw['Primary Residential'] + df_raw['Non-primary Residential'] + df_raw['Commercial'] + df_raw['Agricultural'] + df_raw['Unimproved']\n",
    "\n",
    "df_raw['Centrally Assessed'] = df_raw['233b Total_CA']\n",
    "\n",
    "df_raw['Tax Rate'] = df_raw['750 Tax_Rate_Real']\n",
    "df_raw['Tax Rate PP'] = df_raw['750 Tax_Rate_PP']\n",
    "\n",
    "\n",
    "# Drop Extra Columns\n",
    "df_raw = df_raw[['Tax Year', 'County Name', 'Entity Name', 'Tax Rate', ,'Tax Rate PP', 'Primary Residential', 'Non-primary Residential', 'Commercial', 'Agricultural', 'Unimproved', 'Total Real Property', \n",
    "                 'Centrally Assessed', '233b Total_PP', '233b Grand_Total', '233b Total_Personal', '233b Total_SCME', '233b Primary_Mobile_Home',\n",
    "               '233b Secondary_Mobile_Home', '233b SCME', '233b Business_PP']]\n"
   ]
  },
  {
   "cell_type": "code",
   "execution_count": null,
   "id": "ec170ef8",
   "metadata": {},
   "outputs": [],
   "source": [
    "# Figure out Personal Property\n",
    "# Sum to Statewide\n",
    "# compute type shares"
   ]
  },
  {
   "cell_type": "code",
   "execution_count": 5,
   "id": "2d4131fb",
   "metadata": {},
   "outputs": [],
   "source": [
    "# Pre-processing\n",
    "\n",
    "property_types = ['Primary Residential', 'Non-primary Residential', 'Commercial', 'Agricultural', 'Unimproved', 'Total Real Property', \n",
    "                  'Personal Property', \n",
    "                  'Centrally Assessed', \n",
    "                  'Total Property']\n",
    "\n",
    "# split county/ entity name and code out from county/ entity id\n",
    "df_raw['entity_code']=df_raw['Entity Name'].str[0:4]\n",
    "df_raw['entity_code']=df_raw['entity_code'].astype(int)\n",
    "\n",
    "df_raw['county_code']=df_raw['County Name'].str[0:2]\n",
    "df_raw['county_code']=df_raw['county_code'].astype(int)\n",
    "\n",
    "# re-nameing dictionary\n",
    "\n",
    "\n",
    "# create statewide variables"
   ]
  },
  {
   "cell_type": "code",
   "execution_count": 6,
   "id": "11b084b4",
   "metadata": {},
   "outputs": [],
   "source": [
    "# identify entitiy type by entity code \n",
    "df_raw.loc[df_raw['entity_code'] == 1010, 'entity_type'] = 'County'\n",
    "df_raw.loc[df_raw['entity_code'] == 1015, 'entity_type'] = 'Multicounty Assessing'\n",
    "df_raw.loc[df_raw['entity_code'] == 1020, 'entity_type'] = 'County Assessing'\n",
    "df_raw.loc[(df_raw['entity_code'] >= 2000) & (df_raw['entity_code'] < 3000), 'entity_type'] = 'School District'\n",
    "df_raw.loc[(df_raw['entity_code'] >= 3000) & (df_raw['entity_code'] < 4000), 'entity_type'] = 'Municipality'\n",
    "df_raw.loc[(df_raw['entity_code'] >= 4000) & (df_raw['entity_code'] < 5000), 'entity_type'] = 'Special Service District'\n",
    "df_raw.loc[(df_raw['entity_code'] >= 5000) & (df_raw['entity_code'] < 6000), 'entity_type'] = 'Public Infrastrucutre District'\n",
    "df_raw.loc[(df_raw['entity_code'] >= 6000) & (df_raw['entity_code'] < 7000), 'entity_type'] = 'Special District'\n",
    "df_raw.loc[(df_raw['entity_code'] >= 8000) & (df_raw['entity_code'] < 9999), 'entity_type'] = 'RDA or CDA'\n",
    "df_raw.loc[df_raw['entity_code'] == 9999, 'entity_type'] = 'Statewide'\n",
    "\n",
    "df_raw['county_name']=df_raw['County Name'].str[3:].str.capitalize()\n",
    "\n",
    "df_raw.loc[df_raw['entity_code'] == 1010, 'entity_name'] = df_raw['county_name']\n",
    "df_raw.loc[df_raw['entity_code'] == 1015, 'entity_name'] = 'Multicounty Assessing' + \", \" + df_raw['county_name']\n",
    "df_raw.loc[df_raw['entity_code'] == 1020, 'entity_name'] = 'County Assessing' + \", \" + df_raw['county_name']\n",
    "df_raw.loc[(df_raw['entity_code'] >= 2000) & (df_raw['entity_code'] < 7000), 'entity_name'] = df_raw['Entity Name'].str[5:].str.capitalize() + \", \" + df_raw['county_name']\n",
    "df_raw.loc[df_raw['entity_code'] == 9999, 'entity_name'] = 'Statewide'\n"
   ]
  }
 ],
 "metadata": {
  "kernelspec": {
   "display_name": "Python 3",
   "language": "python",
   "name": "python3"
  },
  "language_info": {
   "codemirror_mode": {
    "name": "ipython",
    "version": 3
   },
   "file_extension": ".py",
   "mimetype": "text/x-python",
   "name": "python",
   "nbconvert_exporter": "python",
   "pygments_lexer": "ipython3",
   "version": "3.12.1"
  }
 },
 "nbformat": 4,
 "nbformat_minor": 5
}
