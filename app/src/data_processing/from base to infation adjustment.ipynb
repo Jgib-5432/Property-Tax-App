{
 "cells": [
  {
   "cell_type": "code",
   "execution_count": null,
   "id": "f9a10330",
   "metadata": {},
   "outputs": [],
   "source": [
    "# Data Processing from base data to dataset for inflation adjustment factor"
   ]
  },
  {
   "cell_type": "code",
   "execution_count": null,
   "id": "b73a66c1",
   "metadata": {},
   "outputs": [],
   "source": [
    "import pandas as pd\n",
    "\n",
    "df_clean = pd.read_json(\"../../public/data/base_data.json\")\n",
    "\n",
    "# drop needless columns"
   ]
  },
  {
   "cell_type": "code",
   "execution_count": null,
   "id": "e156c852",
   "metadata": {},
   "outputs": [],
   "source": [
    "# Export to JSON\n",
    "# df_clean.to_json('../../public/data/inflation_data.json')"
   ]
  }
 ],
 "metadata": {
  "kernelspec": {
   "display_name": "Python 3",
   "language": "python",
   "name": "python3"
  },
  "language_info": {
   "codemirror_mode": {
    "name": "ipython",
    "version": 3
   },
   "file_extension": ".py",
   "mimetype": "text/x-python",
   "name": "python",
   "nbconvert_exporter": "python",
   "pygments_lexer": "ipython3",
   "version": "3.12.1"
  }
 },
 "nbformat": 4,
 "nbformat_minor": 5
}
