{
 "cells": [
  {
   "cell_type": "code",
   "execution_count": null,
   "id": "f9a10330",
   "metadata": {},
   "outputs": [],
   "source": [
    "# Data Processing from base data to dataset for Truth-in-Tax vs Statutory rate counterfactual"
   ]
  },
  {
   "cell_type": "code",
   "execution_count": 6,
   "id": "b73a66c1",
   "metadata": {},
   "outputs": [],
   "source": [
    "import pandas as pd\n",
    "\n",
    "df_clean = pd.read_json(\"../../public/data/base_data.json\")\n",
    "\n",
    "# drop needless columns\n",
    "df_clean = df_clean[['Tax Year', 'County Name', 'Entity Name', 'Entity Code', 'County Code', 'Entity Type', 'Tax Rate' , \n",
    "                 'Total Taxable Property', 'Revenue, Total']]"
   ]
  },
  {
   "cell_type": "code",
   "execution_count": null,
   "id": "1ef5cc3d",
   "metadata": {},
   "outputs": [],
   "source": [
    "# Compute rates without the Truth in Tax constraint\n",
    "\n",
    "df_clean[\"Counterfactual Tax Rate\"] = 0\n",
    "\n",
    "years = df_clean[\"Tax Year\"].unique().tolist()\n",
    "entities = df_clean['Entity Name'].unique().tolist()\n",
    "\n",
    "for year in years:\n",
    "    for entities in entities:\n"
   ]
  },
  {
   "cell_type": "code",
   "execution_count": null,
   "id": "e156c852",
   "metadata": {},
   "outputs": [],
   "source": [
    "# Export to JSON\n",
    "# df_clean.to_json('../../public/data/counterfactual_data.json')"
   ]
  }
 ],
 "metadata": {
  "kernelspec": {
   "display_name": "Python 3",
   "language": "python",
   "name": "python3"
  },
  "language_info": {
   "codemirror_mode": {
    "name": "ipython",
    "version": 3
   },
   "file_extension": ".py",
   "mimetype": "text/x-python",
   "name": "python",
   "nbconvert_exporter": "python",
   "pygments_lexer": "ipython3",
   "version": "3.12.1"
  }
 },
 "nbformat": 4,
 "nbformat_minor": 5
}
