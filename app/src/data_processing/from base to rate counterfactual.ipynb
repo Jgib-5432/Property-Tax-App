{
 "cells": [
  {
   "cell_type": "code",
   "execution_count": 19,
   "id": "f9a10330",
   "metadata": {},
   "outputs": [],
   "source": [
    "# Data Processing from base data to dataset for Truth-in-Tax vs Statutory rate counterfactual\n",
    "\n",
    "# Note that personal property has been excluded from this analysis"
   ]
  },
  {
   "cell_type": "code",
   "execution_count": 20,
   "id": "b73a66c1",
   "metadata": {},
   "outputs": [],
   "source": [
    "import pandas as pd\n",
    "\n",
    "df_clean = pd.read_json(\"../../public/data/base_data.json\")\n",
    "\n",
    "\n",
    "# drop needless columns\n",
    "df_clean = df_clean[['Tax Year', 'County Name', 'Entity Name', 'Entity Code', 'County Code', 'Entity Type', 'Tax Rate', \n",
    "                 'Total Taxable Property', 'Personal Property', 'Revenue, Total']]"
   ]
  },
  {
   "cell_type": "code",
   "execution_count": 21,
   "id": "1ef5cc3d",
   "metadata": {},
   "outputs": [],
   "source": [
    "# Compute tax rates without the Truth in Tax constraint\n",
    "\n",
    "df_clean[\"Counterfactual Tax Rate\"] = df_clean[\"Tax Rate\"]\n",
    "\n",
    "years = df_clean[\"Tax Year\"].unique().tolist()\n",
    "entities = df_clean['Entity Name'].unique().tolist()\n",
    "\n",
    "for year in years:\n",
    "    for entity in entities:\n",
    "        df_clean.loc[(df_clean[\"Tax Year\"] == year) & (df_clean['Entity Name']== entity), 'Counterfactual Tax Rate'] = max( df_clean.loc[(df_clean[\"Tax Year\"] == year -1 ) & (df_clean['Entity Name']== entity), 'Counterfactual Tax Rate'].sum(), df_clean.loc[(df_clean[\"Tax Year\"] == year) & (df_clean['Entity Name']== entity), 'Tax Rate'].sum())\n",
    "        "
   ]
  },
  {
   "cell_type": "code",
   "execution_count": 28,
   "id": "2a90b961",
   "metadata": {},
   "outputs": [],
   "source": [
    "# Compute Counterfactual Revenue\n",
    "\n",
    "df_clean['Base Revenue'] = ((df_clean['Total Taxable Property'] - df_clean['Personal Property'])  * df_clean['Tax Rate']) * 10\n",
    "\n",
    "df_clean['Counterfactual Revenue'] = ((df_clean['Total Taxable Property'] - df_clean['Personal Property'])  * df_clean['Counterfactual Tax Rate']) *10 "
   ]
  },
  {
   "cell_type": "code",
   "execution_count": 33,
   "id": "d3a7fc2d",
   "metadata": {},
   "outputs": [],
   "source": [
    "# Compute Truth Dividend\n",
    "\n",
    "df_clean['Rate Difference'] = df_clean['Counterfactual Tax Rate'] - df_clean['Tax Rate']\n",
    "\n",
    "df_clean['Truth Dividend'] = df_clean['Counterfactual Revenue'] - df_clean['Base Revenue']"
   ]
  },
  {
   "cell_type": "code",
   "execution_count": 34,
   "id": "e156c852",
   "metadata": {},
   "outputs": [],
   "source": [
    "# Export to JSON\n",
    "df_clean.to_json('../../public/data/counterfactual_data.json', orient = 'records')"
   ]
  }
 ],
 "metadata": {
  "kernelspec": {
   "display_name": "Python 3",
   "language": "python",
   "name": "python3"
  },
  "language_info": {
   "codemirror_mode": {
    "name": "ipython",
    "version": 3
   },
   "file_extension": ".py",
   "mimetype": "text/x-python",
   "name": "python",
   "nbconvert_exporter": "python",
   "pygments_lexer": "ipython3",
   "version": "3.13.5"
  }
 },
 "nbformat": 4,
 "nbformat_minor": 5
}
